{
 "cells": [
  {
   "cell_type": "code",
   "execution_count": 2,
   "id": "4adf51e3",
   "metadata": {},
   "outputs": [],
   "source": [
    "import pandas as pd\n",
    "import numpy as np\n",
    "import seaborn as sns\n",
    "from scipy.stats import beta\n",
    "import matplotlib.pyplot as plt\n",
    "import json\n",
    "import decimal\n",
    "decimal.getcontext().prec = 4\n",
    "\n",
    "\n",
    "def calculate_expected_loss(control_simulation, treatment_simulation, treatment_won, min_difference_delta=0):\n",
    "    loss_control = [max((j - min_difference_delta) - i, 0) for i,j in zip(control_simulation, treatment_simulation)]\n",
    "    loss_treatment = [max(i - (j - min_difference_delta), 0) for i,j in zip(control_simulation, treatment_simulation)]\n",
    "\n",
    "    all_loss_control = [int(i)*j for i,j in zip(treatment_won, loss_control)]\n",
    "    all_loss_treatment = [(1 - int(i))*j for i,j in zip(treatment_won, loss_treatment)]\n",
    "\n",
    "    expected_loss_control = np.mean(all_loss_control)\n",
    "    expected_loss_treatment = np.mean(all_loss_treatment)\n",
    "    return expected_loss_control, expected_loss_treatment\n",
    "\n",
    "\n",
    "def run_multiple_experiment_simulations(n, prior_alpha, prior_beta, control_cr, treatment_cr, epsilon, variant_sample_size=10000, min_simulations_per_experiment=0):\n",
    "    output = pd.DataFrame()\n",
    "\n",
    "    for simulation in range(0,n):\n",
    "        records = []\n",
    "        control_simulations = np.random.binomial(n=1, p=control_cr, size=variant_sample_size)\n",
    "        treatment_simulations = np.random.binomial(n=1, p=treatment_cr, size=variant_sample_size)\n",
    "        \n",
    "        sample_size = 0\n",
    "        control_conversions = 0\n",
    "        treatment_conversions = 0\n",
    "\n",
    "        for i in range(variant_sample_size):\n",
    "            sample_size += 1\n",
    "            control_conversions += control_simulations[i]\n",
    "            treatment_conversions += treatment_simulations[i]\n",
    "\n",
    "            control_pdfs = np.random.beta(prior_alpha + control_conversions, prior_beta + sample_size - control_conversions, size=1000)\n",
    "            treatment_pdfs = np.random.beta(prior_alpha + treatment_conversions, prior_beta + sample_size - treatment_conversions, size=1000)\n",
    "            treatment_pdf_higher = [i <= j for i,j in zip(control_pdfs, treatment_pdfs)]\n",
    "\n",
    "            expected_loss_control, expected_loss_treatment = calculate_expected_loss(control_pdfs, treatment_pdfs, treatment_pdf_higher)\n",
    "\n",
    "            if (simulation >= min_simulations_per_experiment) and (expected_loss_treatment <= epsilon):\n",
    "                records.append({'simulation': simulation+1, 'sample': sample_size, 'treatment_cr': (treatment_conversions/sample_size), 'control_cr': (control_conversions/sample_size), 'treatment_expected_loss': expected_loss_treatment, 'control_expected_loss': expected_loss_control, 'winner': 'treatment'})\n",
    "            elif (simulation >= min_simulations_per_experiment) and expected_loss_control <= epsilon:\n",
    "                records.append({'simulation': simulation+1, 'sample': sample_size, 'treatment_cr': (treatment_conversions/sample_size), 'control_cr': (control_conversions/sample_size), 'treatment_expected_loss': expected_loss_treatment, 'control_expected_loss': expected_loss_control, 'winner': 'control'})\n",
    "            else:\n",
    "                records.append({'simulation': simulation+1, 'sample': sample_size, 'treatment_cr': (treatment_conversions/sample_size), 'control_cr': (control_conversions/sample_size), 'treatment_expected_loss': expected_loss_treatment, 'control_expected_loss': expected_loss_control, 'winner': 'inconclusive'})\n",
    "\n",
    "        simulation_results = pd.DataFrame.from_records(records)\n",
    "        output = pd.concat([output, simulation_results])    \n",
    "    \n",
    "    return output"
   ]
  },
  {
   "cell_type": "code",
   "execution_count": null,
   "id": "b166b7a7",
   "metadata": {},
   "outputs": [],
   "source": [
    "standard_simulations = run_multiple_experiment_simulations(100, 7, 15, 0.32, 0.32*(1.15), 0.0015)\n",
    "standard_simulations.to_csv('experiment_simulations_37.csv', index=False)"
   ]
  },
  {
   "cell_type": "code",
   "execution_count": null,
   "id": "5068dfcd",
   "metadata": {},
   "outputs": [],
   "source": [
    "a = [1,2,3]\n",
    "for n in a:\n",
    "    print(n)"
   ]
  },
  {
   "cell_type": "code",
   "execution_count": null,
   "id": "d256cf04",
   "metadata": {},
   "outputs": [],
   "source": []
  }
 ],
 "metadata": {
  "kernelspec": {
   "display_name": "Python 3",
   "language": "python",
   "name": "python3"
  },
  "language_info": {
   "codemirror_mode": {
    "name": "ipython",
    "version": 3
   },
   "file_extension": ".py",
   "mimetype": "text/x-python",
   "name": "python",
   "nbconvert_exporter": "python",
   "pygments_lexer": "ipython3",
   "version": "3.8.8"
  }
 },
 "nbformat": 4,
 "nbformat_minor": 5
}
