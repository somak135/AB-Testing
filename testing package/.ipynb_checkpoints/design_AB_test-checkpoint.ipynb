{
 "cells": [
  {
   "cell_type": "code",
   "execution_count": 1,
   "id": "f7408339-6576-48a0-8680-d12b020bd4d5",
   "metadata": {},
   "outputs": [],
   "source": [
    "from mypackage.design import *"
   ]
  },
  {
   "cell_type": "markdown",
   "id": "13ccdbea-4396-4685-9e55-cd412f800de4",
   "metadata": {},
   "source": [
    "### **Enter the necessary details in this cell and specify the preferred method(s):**"
   ]
  },
  {
   "cell_type": "code",
   "execution_count": 2,
   "id": "0fa8c67a-10a6-484c-aa82-21c31453d2c8",
   "metadata": {},
   "outputs": [
    {
     "data": {
      "text/markdown": [
       "<span style='color:red'>**Enter the required values below:**</span>"
      ],
      "text/plain": [
       "<IPython.core.display.Markdown object>"
      ]
     },
     "metadata": {},
     "output_type": "display_data"
    },
    {
     "data": {
      "application/vnd.jupyter.widget-view+json": {
       "model_id": "daf2a47ea5f945f9bb51cab7ba4483a8",
       "version_major": 2,
       "version_minor": 0
      },
      "text/plain": [
       "BoundedFloatText(value=0.2, description='<b>Baseline conversion rate</b>', max=1.0, step=0.1, style=Descriptio…"
      ]
     },
     "metadata": {},
     "output_type": "display_data"
    },
    {
     "data": {
      "application/vnd.jupyter.widget-view+json": {
       "model_id": "fefeca8f091941a1bda269ed990090ad",
       "version_major": 2,
       "version_minor": 0
      },
      "text/plain": [
       "BoundedFloatText(value=0.05, description='<b>Expected lift (Absolute)</b>', max=1.0, step=0.005, style=Descrip…"
      ]
     },
     "metadata": {},
     "output_type": "display_data"
    },
    {
     "data": {
      "application/vnd.jupyter.widget-view+json": {
       "model_id": "bb0e44f46c164a61b36fd8a77464bf2b",
       "version_major": 2,
       "version_minor": 0
      },
      "text/plain": [
       "HBox(children=(SelectMultiple(description='<b>Power/Conclusive probability</b>', index=(15,), options=('75%', …"
      ]
     },
     "metadata": {},
     "output_type": "display_data"
    },
    {
     "data": {
      "application/vnd.jupyter.widget-view+json": {
       "model_id": "c01124fc535d4a4483a3e5456038e2c1",
       "version_major": 2,
       "version_minor": 0
      },
      "text/plain": [
       "Dropdown(description='<b>Proportion of Control samples</b>', index=9, options=('5%', '10%', '15%', '20%', '25%…"
      ]
     },
     "metadata": {},
     "output_type": "display_data"
    },
    {
     "data": {
      "text/markdown": [
       "<span style='color:red'>**Choose the preferred method(s):**</span>"
      ],
      "text/plain": [
       "<IPython.core.display.Markdown object>"
      ]
     },
     "metadata": {},
     "output_type": "display_data"
    },
    {
     "data": {
      "application/vnd.jupyter.widget-view+json": {
       "model_id": "e5711594e8204b40a9e13cf7584d2365",
       "version_major": 2,
       "version_minor": 0
      },
      "text/plain": [
       "SelectMultiple(description='<b>Method</b>', index=(1,), options=('Classical(One sided)', 'Classical(Two sided)…"
      ]
     },
     "metadata": {},
     "output_type": "display_data"
    }
   ],
   "source": [
    "printmd('**Enter the required values below:**'); display(control_cr, expected_lift, power_box, control_prop)\n",
    "printmd('**Choose the preferred method(s):**'); display(method_choice)"
   ]
  },
  {
   "cell_type": "markdown",
   "id": "7222949e-9fd8-4136-bfc9-cf44f1fa590e",
   "metadata": {},
   "source": [
    "### **Enter Level of Significance and Expected Loss Threshold in this cell, as required:**"
   ]
  },
  {
   "cell_type": "code",
   "execution_count": 3,
   "id": "ca594fdb-69a2-42d9-bbcf-370bd0a06d4f",
   "metadata": {},
   "outputs": [
    {
     "data": {
      "text/markdown": [
       "<span style='color:red'>**Enter Level of Significance for Classical calculation:**</span>"
      ],
      "text/plain": [
       "<IPython.core.display.Markdown object>"
      ]
     },
     "metadata": {},
     "output_type": "display_data"
    },
    {
     "data": {
      "text/markdown": [
       "<span style='color:black'>A Classical test concludes when the observed p-value is less than the **Level of significance**. Lower the value of the level of significance, more is the confidence in declaring a winner and higher is the sample size requirement. The convension is to set a very low value for this threshold and the default is 5%.</span>"
      ],
      "text/plain": [
       "<IPython.core.display.Markdown object>"
      ]
     },
     "metadata": {},
     "output_type": "display_data"
    },
    {
     "data": {
      "application/vnd.jupyter.widget-view+json": {
       "model_id": "528a260c50bb45bd8711df67370f15a2",
       "version_major": 2,
       "version_minor": 0
      },
      "text/plain": [
       "SelectionSlider(description='<b>Level of Significance</b>', index=4, options=('1%', '2%', '3%', '4%', '5%', '6…"
      ]
     },
     "metadata": {},
     "output_type": "display_data"
    }
   ],
   "source": [
    "threshold_display(method_choice.value)"
   ]
  },
  {
   "cell_type": "markdown",
   "id": "b5d8321a-7c7f-426a-b70f-8f8a6c4741c9",
   "metadata": {},
   "source": [
    "### **This cell displays the result after computation is complete:**"
   ]
  },
  {
   "cell_type": "code",
   "execution_count": 5,
   "id": "8f24e358-5dda-4f86-a891-632694b5d47e",
   "metadata": {},
   "outputs": [
    {
     "data": {
      "text/markdown": [
       "<span style='color:red'>**Required sample size for one sided Classical test:**\n",
       "</span>"
      ],
      "text/plain": [
       "<IPython.core.display.Markdown object>"
      ]
     },
     "metadata": {},
     "output_type": "display_data"
    },
    {
     "name": "stdout",
     "output_type": "stream",
     "text": [
      "Power 95% : Required sample sizes for control group: 1897.0 \t test group: 1897.0\n"
     ]
    }
   ],
   "source": [
    "import random; random.seed(135)\n",
    "samplesize_calculate(Bayesian_loading, method_choice.value, control_cr.value, expected_lift.value, power.value, int(control_prop.value[:-1])/100, level_of_sig.value, epsilon.value)"
   ]
  },
  {
   "cell_type": "code",
   "execution_count": null,
   "id": "928cc9fa",
   "metadata": {},
   "outputs": [],
   "source": []
  }
 ],
 "metadata": {
  "kernelspec": {
   "display_name": "Python 3",
   "language": "python",
   "name": "python3"
  },
  "language_info": {
   "codemirror_mode": {
    "name": "ipython",
    "version": 3
   },
   "file_extension": ".py",
   "mimetype": "text/x-python",
   "name": "python",
   "nbconvert_exporter": "python",
   "pygments_lexer": "ipython3",
   "version": "3.8.10"
  }
 },
 "nbformat": 4,
 "nbformat_minor": 5
}
