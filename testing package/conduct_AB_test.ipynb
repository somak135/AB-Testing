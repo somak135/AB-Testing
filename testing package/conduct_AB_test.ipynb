{
 "cells": [
  {
   "cell_type": "code",
   "execution_count": 1,
   "id": "4677cca6-73e2-47a7-ab1f-48d66df2f560",
   "metadata": {},
   "outputs": [],
   "source": [
    "from mypackage.conduct import *"
   ]
  },
  {
   "cell_type": "markdown",
   "id": "670b06ec-a7d7-44b4-a377-d965200b48e1",
   "metadata": {},
   "source": [
    "### **Upload the .csv data file. Should have variation name in first column and binary observations in second column. Rerun from this cell if you need to update the .csv data file.**"
   ]
  },
  {
   "cell_type": "code",
   "execution_count": 2,
   "id": "f389f680-e53b-490b-86cc-96b8f8258b21",
   "metadata": {},
   "outputs": [
    {
     "data": {
      "text/markdown": [
       "<span style='color:red'>**Upload the .csv data file with control/treatment in first column and binary observations in second column:**</span>"
      ],
      "text/plain": [
       "<IPython.core.display.Markdown object>"
      ]
     },
     "metadata": {},
     "output_type": "display_data"
    },
    {
     "data": {
      "application/vnd.jupyter.widget-view+json": {
       "model_id": "725a2532c4ea4867993967cb06e9b841",
       "version_major": 2,
       "version_minor": 0
      },
      "text/plain": [
       "FileUpload(value={}, accept='.csv', description='Upload')"
      ]
     },
     "metadata": {},
     "output_type": "display_data"
    }
   ],
   "source": [
    "up = upload_file()"
   ]
  },
  {
   "cell_type": "markdown",
   "id": "82a1c3dd-711b-4689-a025-89804461bdbc",
   "metadata": {},
   "source": [
    "### **Choose your preferred method(Classical/Bayesian) from the list. Rerun from this cell if you want to change any setting.**"
   ]
  },
  {
   "cell_type": "code",
   "execution_count": 14,
   "id": "1fb8b0a6-4769-4ca1-891a-c33ef2d8b3ab",
   "metadata": {},
   "outputs": [
    {
     "data": {
      "application/vnd.jupyter.widget-view+json": {
       "model_id": "af9193c2e3e94b5ebea156e7f7f06f97",
       "version_major": 2,
       "version_minor": 0
      },
      "text/plain": [
       "Select(description='<b>Choose the baseline variation<b>', options=('control', 'treatment'), style=DescriptionS…"
      ]
     },
     "metadata": {},
     "output_type": "display_data"
    },
    {
     "data": {
      "text/markdown": [
       "<span style='color:red'>**Choose preferred method for the test.**</span>"
      ],
      "text/plain": [
       "<IPython.core.display.Markdown object>"
      ]
     },
     "metadata": {},
     "output_type": "display_data"
    },
    {
     "data": {
      "application/vnd.jupyter.widget-view+json": {
       "model_id": "86a94897d1ed482d8d74795816551d88",
       "version_major": 2,
       "version_minor": 0
      },
      "text/plain": [
       "Select(description='<b>Method</b>', options=('Classical(One sided)', 'Classical(Two sided)', 'Bayesian'), styl…"
      ]
     },
     "metadata": {},
     "output_type": "display_data"
    }
   ],
   "source": [
    "df, name_list = read_file(up); display_ask_baseline_widget(ask_baseline, name_list)\n",
    "printmd('**Choose preferred method for the test.**'); display(method_choice)"
   ]
  },
  {
   "cell_type": "markdown",
   "id": "ab85474f-7fb6-4e60-81d7-6b23559af240",
   "metadata": {},
   "source": [
    "### **Specify the value of Level of Significance/Expected Loss threshold:**"
   ]
  },
  {
   "cell_type": "code",
   "execution_count": 12,
   "id": "df2d7217-e125-4fd8-91db-38af330663d5",
   "metadata": {},
   "outputs": [
    {
     "data": {
      "text/markdown": [
       "<span style='color:red'>**Enter Level of Significance:**</span>"
      ],
      "text/plain": [
       "<IPython.core.display.Markdown object>"
      ]
     },
     "metadata": {},
     "output_type": "display_data"
    },
    {
     "data": {
      "text/markdown": [
       "<span style='color:black'>A Classical test concludes when the observed p-value is less than the **Level of significance**. Lower the value of the level of significance, more is the confidence in declaring a winner. The convension is to set a very low value for this threshold and the default is 5%.</span>"
      ],
      "text/plain": [
       "<IPython.core.display.Markdown object>"
      ]
     },
     "metadata": {},
     "output_type": "display_data"
    },
    {
     "data": {
      "application/vnd.jupyter.widget-view+json": {
       "model_id": "0ad869e27c9a4eb58e078ed617921562",
       "version_major": 2,
       "version_minor": 0
      },
      "text/plain": [
       "SelectionSlider(description='<b>Level of Significance</b>', index=4, options=('1%', '2%', '3%', '4%', '5%', '6…"
      ]
     },
     "metadata": {},
     "output_type": "display_data"
    }
   ],
   "source": [
    "threshold_display(method_choice.value)"
   ]
  },
  {
   "cell_type": "markdown",
   "id": "8b09f359-71b2-40eb-9b9f-064808e300e6",
   "metadata": {},
   "source": [
    "### **This cell displays the test result:**"
   ]
  },
  {
   "cell_type": "code",
   "execution_count": 13,
   "id": "ee89bfb7-8954-4fc2-9f25-a83fcef46688",
   "metadata": {},
   "outputs": [
    {
     "data": {
      "image/png": "[encoded data removed]",
      "text/plain": [
       "<Figure size 432x288 with 1 Axes>"
      ]
     },
     "metadata": {
      "needs_background": "light"
     },
     "output_type": "display_data"
    },
    {
     "data": {
      "text/markdown": [
       "<span style='color:red'>**The test is inconclusive. P-value is  0.1926.**</span>"
      ],
      "text/plain": [
       "<IPython.core.display.Markdown object>"
      ]
     },
     "metadata": {},
     "output_type": "display_data"
    }
   ],
   "source": [
    "do_test(df, level_of_sig.value, epsilon.value, expected_lift.value, name_list, ask_baseline.value, method_choice.value)"
   ]
  },
  {
   "cell_type": "code",
   "execution_count": null,
   "id": "b94c04b1-4f08-4c54-aa7c-d259d1d07432",
   "metadata": {},
   "outputs": [],
   "source": []
  }
 ],
 "metadata": {
  "kernelspec": {
   "display_name": "Python 3",
   "language": "python",
   "name": "python3"
  },
  "language_info": {
   "codemirror_mode": {
    "name": "ipython",
    "version": 3
   },
   "file_extension": ".py",
   "mimetype": "text/x-python",
   "name": "python",
   "nbconvert_exporter": "python",
   "pygments_lexer": "ipython3",
   "version": "3.8.10"
  }
 },
 "nbformat": 4,
 "nbformat_minor": 5
}
