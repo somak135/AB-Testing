{
 "cells": [
  {
   "cell_type": "code",
   "execution_count": null,
   "id": "4677cca6-73e2-47a7-ab1f-48d66df2f560",
   "metadata": {},
   "outputs": [],
   "source": [
    "from mypackage.conduct import *"
   ]
  },
  {
   "cell_type": "markdown",
   "id": "670b06ec-a7d7-44b4-a377-d965200b48e1",
   "metadata": {},
   "source": [
    "### **Upload the .csv data file. Should have variation name in first column and binary observations in second column. Rerun from this cell if you need to update the .csv data file.**"
   ]
  },
  {
   "cell_type": "code",
   "execution_count": null,
   "id": "f389f680-e53b-490b-86cc-96b8f8258b21",
   "metadata": {},
   "outputs": [],
   "source": [
    "up = upload_file()"
   ]
  },
  {
   "cell_type": "markdown",
   "id": "82a1c3dd-711b-4689-a025-89804461bdbc",
   "metadata": {},
   "source": [
    "### **Choose your preferred method(Classical/Bayesian) from the list. Rerun from this cell if you want to change any setting.**"
   ]
  },
  {
   "cell_type": "code",
   "execution_count": null,
   "id": "1fb8b0a6-4769-4ca1-891a-c33ef2d8b3ab",
   "metadata": {},
   "outputs": [],
   "source": [
    "df, name_list = read_file(up); display_ask_baseline_widget(ask_baseline, name_list)\n",
    "printmd('**Choose preferred method for the test.**'); display(method_choice)"
   ]
  },
  {
   "cell_type": "markdown",
   "id": "ab85474f-7fb6-4e60-81d7-6b23559af240",
   "metadata": {},
   "source": [
    "### **Specify the value of Level of Significance/Expected Loss threshold:**"
   ]
  },
  {
   "cell_type": "code",
   "execution_count": null,
   "id": "df2d7217-e125-4fd8-91db-38af330663d5",
   "metadata": {},
   "outputs": [],
   "source": [
    "threshold_display(method_choice.value)"
   ]
  },
  {
   "cell_type": "markdown",
   "id": "8b09f359-71b2-40eb-9b9f-064808e300e6",
   "metadata": {},
   "source": [
    "### **This cell displays the test result:**"
   ]
  },
  {
   "cell_type": "code",
   "execution_count": null,
   "id": "ee89bfb7-8954-4fc2-9f25-a83fcef46688",
   "metadata": {},
   "outputs": [],
   "source": [
    "do_test(df, level_of_sig.value, epsilon.value, expected_lift.value, name_list, ask_baseline.value, method_choice.value)"
   ]
  },
  {
   "cell_type": "code",
   "execution_count": null,
   "id": "b94c04b1-4f08-4c54-aa7c-d259d1d07432",
   "metadata": {},
   "outputs": [],
   "source": []
  }
 ],
 "metadata": {
  "kernelspec": {
   "display_name": "Python 3",
   "language": "python",
   "name": "python3"
  },
  "language_info": {
   "codemirror_mode": {
    "name": "ipython",
    "version": 3
   },
   "file_extension": ".py",
   "mimetype": "text/x-python",
   "name": "python",
   "nbconvert_exporter": "python",
   "pygments_lexer": "ipython3",
   "version": "3.8.10"
  }
 },
 "nbformat": 4,
 "nbformat_minor": 5
}
