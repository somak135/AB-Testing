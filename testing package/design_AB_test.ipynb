{
 "cells": [
  {
   "cell_type": "code",
   "execution_count": 5,
   "id": "f7408339-6576-48a0-8680-d12b020bd4d5",
   "metadata": {},
   "outputs": [],
   "source": [
    "from mypackage.design import *"
   ]
  },
  {
   "cell_type": "markdown",
   "id": "13ccdbea-4396-4685-9e55-cd412f800de4",
   "metadata": {},
   "source": [
    "### **Enter the necessary details in this cell and specify the preferred method(s):**"
   ]
  },
  {
   "cell_type": "code",
   "execution_count": 6,
   "id": "0fa8c67a-10a6-484c-aa82-21c31453d2c8",
   "metadata": {},
   "outputs": [
    {
     "data": {
      "text/markdown": [
       "<span style='color:red'>**Enter the required values below:**</span>"
      ],
      "text/plain": [
       "<IPython.core.display.Markdown object>"
      ]
     },
     "metadata": {},
     "output_type": "display_data"
    },
    {
     "data": {
      "application/vnd.jupyter.widget-view+json": {
       "model_id": "4777a393d4b041afaecfdb8f285e4469",
       "version_major": 2,
       "version_minor": 0
      },
      "text/plain": [
       "BoundedFloatText(value=0.3, description='<b>Baseline conversion rate</b>', max=1.0, step=0.1, style=Descriptio…"
      ]
     },
     "metadata": {},
     "output_type": "display_data"
    },
    {
     "data": {
      "application/vnd.jupyter.widget-view+json": {
       "model_id": "5c9f26dd14144034b0561f7f07a35464",
       "version_major": 2,
       "version_minor": 0
      },
      "text/plain": [
       "BoundedFloatText(value=0.05, description='<b>Expected lift (Absolute)</b>', max=1.0, step=0.005, style=Descrip…"
      ]
     },
     "metadata": {},
     "output_type": "display_data"
    },
    {
     "data": {
      "application/vnd.jupyter.widget-view+json": {
       "model_id": "5e07820177d34a65b46c97c6044fb2fd",
       "version_major": 2,
       "version_minor": 0
      },
      "text/plain": [
       "HBox(children=(SelectMultiple(description='<b>Power/Conclusive probability</b>', index=(15,), options=('75%', …"
      ]
     },
     "metadata": {},
     "output_type": "display_data"
    },
    {
     "data": {
      "application/vnd.jupyter.widget-view+json": {
       "model_id": "5c45eac5a6a24d8887df203d20d1ebf0",
       "version_major": 2,
       "version_minor": 0
      },
      "text/plain": [
       "Dropdown(description='<b>Proportion of Control samples</b>', index=9, options=('5%', '10%', '15%', '20%', '25%…"
      ]
     },
     "metadata": {},
     "output_type": "display_data"
    },
    {
     "data": {
      "text/markdown": [
       "<span style='color:red'>**Choose the preferred method(s):**</span>"
      ],
      "text/plain": [
       "<IPython.core.display.Markdown object>"
      ]
     },
     "metadata": {},
     "output_type": "display_data"
    },
    {
     "data": {
      "application/vnd.jupyter.widget-view+json": {
       "model_id": "5c2099aa07a9402e8682be92a331bac2",
       "version_major": 2,
       "version_minor": 0
      },
      "text/plain": [
       "SelectMultiple(description='<b>Method</b>', index=(0, 1, 2), options=('Classical(One sided)', 'Classical(Two s…"
      ]
     },
     "metadata": {},
     "output_type": "display_data"
    }
   ],
   "source": [
    "printmd('**Enter the required values below:**'); display(control_cr, expected_lift, power_box, control_prop)\n",
    "printmd('**Choose the preferred method(s):**'); display(method_choice)"
   ]
  },
  {
   "cell_type": "markdown",
   "id": "7222949e-9fd8-4136-bfc9-cf44f1fa590e",
   "metadata": {},
   "source": [
    "### **Enter Level of Significance and Expected Loss Threshold in this cell, as required:**"
   ]
  },
  {
   "cell_type": "code",
   "execution_count": 9,
   "id": "ca594fdb-69a2-42d9-bbcf-370bd0a06d4f",
   "metadata": {},
   "outputs": [
    {
     "data": {
      "text/markdown": [
       "<span style='color:red'>**Enter Level of Significance for Classical calculation:**</span>"
      ],
      "text/plain": [
       "<IPython.core.display.Markdown object>"
      ]
     },
     "metadata": {},
     "output_type": "display_data"
    },
    {
     "data": {
      "text/markdown": [
       "<span style='color:black'>A Classical test concludes when the observed p-value is less than the **Level of significance**. Lower the value of the level of significance, more is the confidence in declaring a winner and higher is the sample size requirement. The convension is to set a very low value for this threshold and the default is 5%.</span>"
      ],
      "text/plain": [
       "<IPython.core.display.Markdown object>"
      ]
     },
     "metadata": {},
     "output_type": "display_data"
    },
    {
     "data": {
      "application/vnd.jupyter.widget-view+json": {
       "model_id": "780db3110b6e4abab741647877eda35a",
       "version_major": 2,
       "version_minor": 0
      },
      "text/plain": [
       "SelectionSlider(description='<b>Level of Significance</b>', index=4, options=('1%', '2%', '3%', '4%', '5%', '6…"
      ]
     },
     "metadata": {},
     "output_type": "display_data"
    },
    {
     "data": {
      "text/markdown": [
       "<span style='color:red'>**Enter Expected Loss Threshold for Bayesian calculation:**</span>"
      ],
      "text/plain": [
       "<IPython.core.display.Markdown object>"
      ]
     },
     "metadata": {},
     "output_type": "display_data"
    },
    {
     "data": {
      "text/markdown": [
       "<span style='color:black'>A Bayesian test concludes when (Expected loss of one variant)/(Sum of expected losses of the two variants) is less than the **Expected loss threshold**. Lower the value of the threshold, more is the confidence in declaring a winner and higher is the sample size requirement. The convension is to set a very low value for this threshold and the default is 5%.</span>"
      ],
      "text/plain": [
       "<IPython.core.display.Markdown object>"
      ]
     },
     "metadata": {},
     "output_type": "display_data"
    },
    {
     "data": {
      "application/vnd.jupyter.widget-view+json": {
       "model_id": "eea84bbfd70e4be892f9a156e6e6f8a7",
       "version_major": 2,
       "version_minor": 0
      },
      "text/plain": [
       "SelectionSlider(description='<b>Expected Loss Threshold</b>', index=4, options=('1%', '2%', '3%', '4%', '5%', …"
      ]
     },
     "metadata": {},
     "output_type": "display_data"
    }
   ],
   "source": [
    "threshold_display(method_choice.value)"
   ]
  },
  {
   "cell_type": "markdown",
   "id": "b5d8321a-7c7f-426a-b70f-8f8a6c4741c9",
   "metadata": {},
   "source": [
    "### **This cell displays the result after computation is complete:**"
   ]
  },
  {
   "cell_type": "code",
   "execution_count": 10,
   "id": "8f24e358-5dda-4f86-a891-632694b5d47e",
   "metadata": {},
   "outputs": [
    {
     "data": {
      "text/markdown": [
       "<span style='color:red'>**Required sample size for one sided Classical test:**\n",
       "</span>"
      ],
      "text/plain": [
       "<IPython.core.display.Markdown object>"
      ]
     },
     "metadata": {},
     "output_type": "display_data"
    },
    {
     "name": "stdout",
     "output_type": "stream",
     "text": [
      "Power 80% : Required sample sizes for control group: 20151.0 \t test group: 20151.0\n",
      "Power 85% : Required sample sizes for control group: 23433.0 \t test group: 23433.0\n",
      "Power 90% : Required sample sizes for control group: 27912.0 \t test group: 27912.0\n",
      "Power 95% : Required sample sizes for control group: 35273.0 \t test group: 35273.0\n"
     ]
    },
    {
     "data": {
      "text/markdown": [
       "<span style='color:red'>**Required sample size for two sided Classical test:**\n",
       "</span>"
      ],
      "text/plain": [
       "<IPython.core.display.Markdown object>"
      ]
     },
     "metadata": {},
     "output_type": "display_data"
    },
    {
     "name": "stdout",
     "output_type": "stream",
     "text": [
      "Power 80% : Required sample sizes for control group: 25583.0 \t test group: 25583.0\n",
      "Power 85% : Required sample sizes for control group: 29264.0 \t test group: 29264.0\n",
      "Power 90% : Required sample sizes for control group: 34247.0 \t test group: 34247.0\n",
      "Power 95% : Required sample sizes for control group: 42354.0 \t test group: 42354.0\n"
     ]
    },
    {
     "data": {
      "application/vnd.jupyter.widget-view+json": {
       "model_id": "9fc4bceb8a384e918c7db5884bf97336",
       "version_major": 2,
       "version_minor": 0
      },
      "text/plain": [
       "IntProgress(value=0, bar_style='info', description='Bayesian running:', layout=Layout(visibility='visible'), m…"
      ]
     },
     "metadata": {},
     "output_type": "display_data"
    },
    {
     "data": {
      "text/markdown": [
       "<span style='color:red'>**Required sample size for Bayesian test:**\n",
       "</span>"
      ],
      "text/plain": [
       "<IPython.core.display.Markdown object>"
      ]
     },
     "metadata": {},
     "output_type": "display_data"
    },
    {
     "name": "stdout",
     "output_type": "stream",
     "text": [
      "Power 80% : Required sample sizes for control group: 7459.0 \t test group: 7459.0\n",
      "Power 85% : Required sample sizes for control group: 9059.0 \t test group: 9059.0\n",
      "Power 90% : Required sample sizes for control group: 11859.0 \t test group: 11859.0\n",
      "Power 95% : Required sample sizes for control group: 16212.0 \t test group: 16212.0\n"
     ]
    }
   ],
   "source": [
    "samplesize_calculate(Bayesian_loading, method_choice.value, control_cr.value, expected_lift.value, power.value, int(control_prop.value[:-1])/100, level_of_sig.value, epsilon.value)"
   ]
  },
  {
   "cell_type": "code",
   "execution_count": null,
   "id": "1ce94916-9ac9-4e22-8a3d-0d79f7dd108d",
   "metadata": {},
   "outputs": [],
   "source": []
  }
 ],
 "metadata": {
  "kernelspec": {
   "display_name": "Python 3",
   "language": "python",
   "name": "python3"
  },
  "language_info": {
   "codemirror_mode": {
    "name": "ipython",
    "version": 3
   },
   "file_extension": ".py",
   "mimetype": "text/x-python",
   "name": "python",
   "nbconvert_exporter": "python",
   "pygments_lexer": "ipython3",
   "version": "3.8.10"
  }
 },
 "nbformat": 4,
 "nbformat_minor": 5
}
