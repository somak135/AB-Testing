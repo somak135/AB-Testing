{
 "cells": [
  {
   "cell_type": "markdown",
   "id": "d7f5b1aa",
   "metadata": {},
   "source": [
    "### Initially run the first two cells"
   ]
  },
  {
   "cell_type": "code",
   "execution_count": 1,
   "id": "3af5e9bf",
   "metadata": {},
   "outputs": [],
   "source": [
    "import ipywidgets as widgets\n",
    "from IPython.display import Markdown, display\n",
    "import pandas as pd\n",
    "import numpy as np\n",
    "import seaborn as sns\n",
    "from scipy.stats import beta\n",
    "from scipy.stats import norm\n",
    "import matplotlib.pyplot as plt\n",
    "import json\n",
    "import decimal\n",
    "decimal.getcontext().prec = 4\n",
    "import multiprocessing\n",
    "from joblib import Parallel, delayed\n",
    "\n",
    "def printmd(string, color='red'):\n",
    "    colorstr = \"<span style='color:{}'>{}</span>\".format(color, string)\n",
    "    display(Markdown(colorstr))\n",
    "\n",
    "\n",
    "############## BAYESIAN PROCESS ##################\n",
    "def calculate_expected_loss(control_simulation, treatment_simulation, treatment_won, min_difference_delta=0):\n",
    "    control_simulation = np.array(control_simulation)\n",
    "    treatment_simulation = np.array(treatment_simulation)\n",
    "    \n",
    "    loss_control = (treatment_simulation - min_difference_delta) - control_simulation\n",
    "    loss_treatment = (control_simulation - min_difference_delta) - treatment_simulation\n",
    "    \n",
    "    all_loss_control = treatment_won * loss_control\n",
    "    all_loss_treatment = (1 - treatment_won) * loss_treatment\n",
    "    \n",
    "    return np.mean(all_loss_control), np.mean(all_loss_treatment)\n",
    "\n",
    "\n",
    "def reqd_sample_size(prior_alpha, prior_beta, control_cr, treatment_cr, epsilon, control_prop = 0.5, min_simulation_control = 300, sample_size_bound_control = 10000):\n",
    "    number_of_control_win = 0\n",
    "    number_of_treatment_win = 0\n",
    "    sample_size_control = min_simulation_control\n",
    "    sample_size_treatment = np.ceil(min_simulation_control * (1 - control_prop)/control_prop).astype(int)\n",
    "    flag = 0\n",
    "    \n",
    "    control_conversions = np.random.binomial(n = sample_size_control, p = control_cr, size = 1)\n",
    "    treatment_conversions = np.random.binomial(n = sample_size_treatment, p = treatment_cr, size = 1)\n",
    "    \n",
    "    while flag == 0:\n",
    "        sample_size_control += 20\n",
    "        sample_size_treatment += np.ceil(20 * (1 - control_prop)/control_prop).astype(int)\n",
    "        control_conversions += np.random.binomial(n = 20, p = control_cr, size = 1)\n",
    "        treatment_conversions += np.random.binomial(n = np.ceil(20 * (1 - control_prop)/control_prop).astype(int), p = treatment_cr, size = 1)\n",
    "        \n",
    "        control_posterior_simulation = np.random.beta(prior_alpha + control_conversions, prior_beta + sample_size_control - control_conversions, size=5000)\n",
    "        treatment_posterior_simulation = np.random.beta(prior_alpha + treatment_conversions, prior_beta + sample_size_treatment - treatment_conversions, size=5000)\n",
    "        treatment_won = (treatment_posterior_simulation >= control_posterior_simulation).astype(int)\n",
    "        \n",
    "        expected_loss_control, expected_loss_treatment = calculate_expected_loss(control_posterior_simulation, treatment_posterior_simulation, treatment_won)\n",
    "        \n",
    "        if expected_loss_treatment <= epsilon:\n",
    "            number_of_treatment_win += 1\n",
    "            flag = 1\n",
    "        #elif expected_loss_control <= epsilon:\n",
    "         #   number_of_control_win += 1\n",
    "          #  flag = 1\n",
    "        elif sample_size_control >= sample_size_bound_control:\n",
    "            flag = 1\n",
    "            \n",
    "    return sample_size_control\n",
    "\n",
    "\n",
    "def calculate_reqd_samplesize_control_distbn(n, prior_alpha, prior_beta, control_cr, treatment_cr, epsilon, control_prop = 0.5, min_simulation_control=300, sample_size_bound_control=10000):\n",
    "    num_cores = multiprocessing.cpu_count()\n",
    "    inputs = range(1, n)\n",
    "    \n",
    "    processed_list = []\n",
    "    processed_list = Parallel(n_jobs=num_cores)(delayed(reqd_sample_size)(prior_alpha, prior_beta, control_cr, treatment_cr, epsilon, control_prop, min_simulation_control, sample_size_bound_control) for i in inputs)\n",
    "    return processed_list\n",
    "\n",
    "def final_samplesize_multiple_power(progressbar, n, prior_alpha, prior_beta, control_cr, treatment_cr, epsilon, control_prop = 0.5, power_list = [0.9], min_simulation_control = 300, sample_size_bound = 10000):\n",
    "    progressbar.value = 0\n",
    "    display(progressbar)\n",
    "    N = 10\n",
    "    k = np.ceil(n/10).astype(int) + 1\n",
    "    complete_list = np.array([])\n",
    "    for i in range(N):\n",
    "        list1 = calculate_reqd_samplesize_control_distbn(k, prior_alpha, prior_beta, control_cr, treatment_cr, epsilon, control_prop, min_simulation_control, sample_size_bound)\n",
    "        complete_list = np.append(complete_list, list1)\n",
    "        progressbar.value += 1\n",
    "        \n",
    "    return np.quantile(complete_list, power_list, axis = 0)\n",
    "\n",
    "\n",
    "############## CLASSICAL PROCESS ######################\n",
    "def calculate_reqd_samplesize_classical(control_cr, treatment_cr, control_group, level_of_sig, power_list):\n",
    "    p1 = control_cr\n",
    "    p2 = treatment_cr\n",
    "    q1 = 1 - p1\n",
    "    q2 = 1 - p2\n",
    "    delta = abs(p2 - p1)\n",
    "    k = (1 - control_group)/control_group\n",
    "    pbar = (p1 + k*p2)/(1 + k)\n",
    "    qbar = 1 - pbar\n",
    "    \n",
    "    term1 = np.sqrt(pbar * qbar * (1+1/k)) * norm.ppf(1 - level_of_sig/2)\n",
    "    sample_size = []\n",
    "    for i in range(len(power_list)):\n",
    "        term2 = np.sqrt(p1 * q1 + p2 * q2/k) * norm.ppf(power_list[i])\n",
    "        sample_size.append(((term1 + term2)**2)/(delta**2))\n",
    "    \n",
    "    return sample_size"
   ]
  },
  {
   "cell_type": "code",
   "execution_count": 8,
   "id": "43f59f9e",
   "metadata": {},
   "outputs": [],
   "source": [
    "style = {'description_width': 'initial'}\n",
    "control_cr = widgets.BoundedFloatText(\n",
    "            value = 0.2,\n",
    "            min = 0,\n",
    "            step = 0.1,\n",
    "            max = 1,\n",
    "            description = f'<b>Baseline conversion rate</b>',\n",
    "            disabled = False,\n",
    "            style = style\n",
    ")\n",
    "\n",
    "detectable_lift = widgets.BoundedFloatText(\n",
    "                value = 0.05,\n",
    "                min = 0,\n",
    "                step = 0.005,\n",
    "                max = 1,\n",
    "                description = f'<b>Minimum detectable lift</b>',\n",
    "                readout_format = '.4f',\n",
    "                disabled = False,\n",
    "                style = style\n",
    ")\n",
    "\n",
    "eps_default = control_cr.value * 0.005 #default is 0.5% of baseline conversion rate is loss threshold\n",
    "eps_min = control_cr.value * 0.001 #minimum possible value of loss threshold is 0.1% of baseline conversion rate\n",
    "eps_max = control_cr.value * 0.1 #maximum possible value of loss threshold is 10% of baseline conversion rate\n",
    "epsilon = widgets.FloatSlider(\n",
    "        value = eps_default,\n",
    "        min = eps_min,\n",
    "        max = eps_max,\n",
    "        step = eps_min,\n",
    "        description = f'<b>Expected Loss Threshold</b>',\n",
    "        readout = False,\n",
    "        style = style\n",
    ")\n",
    "eps_label = widgets.Label()\n",
    "eps_box = widgets.HBox([epsilon, eps_label])\n",
    "mylink = widgets.jslink((epsilon, 'value'), (eps_label, 'value'))\n",
    "\n",
    "level_of_sig_default = 0.05\n",
    "level_of_sig_min = 0.01\n",
    "level_of_sig_max = 0.1\n",
    "level_of_sig = widgets.FloatSlider(\n",
    "                value = level_of_sig_default,\n",
    "                min = level_of_sig_min,\n",
    "                max = level_of_sig_max,\n",
    "                step = 0.01,\n",
    "                description = f'<b>Level of Significance</b>',\n",
    "                readout_format = '.2f',\n",
    "                style = style\n",
    ")\n",
    "\n",
    "values = np.arange(5, 100, 5)\n",
    "values_text = []\n",
    "for i in range(len(values)):\n",
    "    values_text.append(values[i].astype(str) + '%')\n",
    "\n",
    "control_prop = widgets.Dropdown(\n",
    "                options = values_text,\n",
    "                value = '50%',\n",
    "                description = f'<b>Proportion of Control samples</b>',\n",
    "                style = style\n",
    ")\n",
    "\n",
    "power_values = np.arange(75, 100, 1)\n",
    "power_values_text = []\n",
    "for i in range(len(power_values)):\n",
    "    power_values_text.append(power_values[i].astype(str) + '%')\n",
    "\n",
    "power = widgets.SelectMultiple(\n",
    "        options = power_values_text,\n",
    "        value = ['90%'],\n",
    "        description = f'<b>Power/Conclusive probability</b>',\n",
    "        style = style\n",
    ")\n",
    "\n",
    "power_label = widgets.Label('ctrl + Click for multiple selection')\n",
    "power_box = widgets.HBox([power, power_label])\n",
    "\n",
    "method_choice = widgets.SelectMultiple(\n",
    "                options = ['Classical', 'Bayesian'],\n",
    "                value = ['Classical'],\n",
    "                description = f'<b>Method</b>',\n",
    "                style = style\n",
    ")\n",
    "\n",
    "\n",
    "Bayesian_loading = widgets.IntProgress(\n",
    "    value=0,\n",
    "    min=0,\n",
    "    max=10,\n",
    "    description='Bayesian running:',\n",
    "    bar_style='info',\n",
    "    style={'bar_color': '#00FF00', 'description_width': 'initial'},\n",
    "    orientation='horizontal'\n",
    ")\n",
    "\n",
    "def threshold_display(arr, control_cr):\n",
    "    if len(arr) == 1:\n",
    "        if arr[0] == 'Classical':\n",
    "            printmd('**Enter Level of Significance for Classical calculation:**')\n",
    "            display(level_of_sig)\n",
    "            \n",
    "        if arr[0] == 'Bayesian':\n",
    "            printmd('**Enter Expected Loss Threshold for Bayesian calculation:**')\n",
    "            epsilon.value = control_cr * 0.005\n",
    "            epsilon.min = control_cr * 0.001\n",
    "            epsilon.max = control_cr * 0.01\n",
    "            display(eps_box)\n",
    "            \n",
    "    if len(arr) == 2:\n",
    "        printmd('**Enter Level of Significance for Classical calculation and Expected Loss Threshold for Bayesian calculation:**')\n",
    "        epsilon.value = control_cr * 0.005\n",
    "        epsilon.min = control_cr * 0.001\n",
    "        epsilon.max = control_cr * 0.01\n",
    "        display(level_of_sig, eps_box)\n",
    "        \n",
    "def samplesize_calculate(progressbar, arr, control_cr, detectable_lift, power_list, control_prop, level_of_sig, epsilon):\n",
    "    power_numeric = []\n",
    "    for i in range(len(power_list)):\n",
    "        power_numeric.append(int(power_list[i][:-1])/100)\n",
    "    \n",
    "    classical_size = calculate_reqd_samplesize_classical(control_cr, control_cr+detectable_lift, control_prop, level_of_sig, power_numeric)\n",
    "    if len(arr) == 1:\n",
    "        if arr[0] == 'Classical':\n",
    "            printmd('**Required sample size by Classical method:**\\n')\n",
    "            for i in range(len(classical_size)):\n",
    "                print(f'Power {power_list[i]} : Required sample size for control {np.ceil(classical_size[i])}')\n",
    "        if arr[0] == 'Bayesian':\n",
    "            bayesian_size = final_samplesize_multiple_power(progressbar, 5000, 1, 1, control_cr, control_cr+detectable_lift, epsilon, control_prop, power_numeric, min_simulation_control = classical_size[0]/10, sample_size_bound = classical_size[len(power_list)-1])\n",
    "            printmd('**Required sample size by Bayesian method:**\\n')\n",
    "            for i in range(len(bayesian_size)):\n",
    "                print(f'Power {power_list[i]} : Required sample size for control {np.ceil(bayesian_size[i])}')\n",
    "    if len(arr) == 2:\n",
    "        printmd('**Required sample size by Classical method:**\\n')\n",
    "        for i in range(len(classical_size)):\n",
    "            print(f'Power {power_list[i]} : Required sample size for control {np.ceil(classical_size[i])}')\n",
    "        bayesian_size = final_samplesize_multiple_power(progressbar, 5000, 1, 1, control_cr, control_cr+detectable_lift, epsilon, control_prop, power_numeric, min_simulation_control = classical_size[0]/10, sample_size_bound = classical_size[len(power_list)-1])\n",
    "        printmd('**Required sample size by Bayesian method:**\\n')\n",
    "        for i in range(len(bayesian_size)):\n",
    "            print(f'Power {power_list[i]} : Required sample size for control {np.ceil(bayesian_size[i])}')"
   ]
  },
  {
   "cell_type": "code",
   "execution_count": null,
   "id": "149f6871",
   "metadata": {},
   "outputs": [],
   "source": []
  },
  {
   "cell_type": "code",
   "execution_count": null,
   "id": "95f7f8cb",
   "metadata": {},
   "outputs": [],
   "source": []
  },
  {
   "cell_type": "code",
   "execution_count": null,
   "id": "9d2045ea",
   "metadata": {},
   "outputs": [],
   "source": []
  },
  {
   "cell_type": "markdown",
   "id": "5e33aa53",
   "metadata": {},
   "source": [
    "### Enter the necessary details in this cell and specify the preferred method(s):"
   ]
  },
  {
   "cell_type": "code",
   "execution_count": 9,
   "id": "6b4801dc",
   "metadata": {},
   "outputs": [
    {
     "data": {
      "text/markdown": [
       "<span style='color:red'>**Enter the required values below:**</span>"
      ],
      "text/plain": [
       "<IPython.core.display.Markdown object>"
      ]
     },
     "metadata": {},
     "output_type": "display_data"
    },
    {
     "data": {
      "application/vnd.jupyter.widget-view+json": {
       "model_id": "cdb1a41995df41a28b6c37bd2aff13fb",
       "version_major": 2,
       "version_minor": 0
      },
      "text/plain": [
       "BoundedFloatText(value=0.2, description='<b>Baseline conversion rate</b>', max=1.0, step=0.1, style=Descriptio…"
      ]
     },
     "metadata": {},
     "output_type": "display_data"
    },
    {
     "data": {
      "application/vnd.jupyter.widget-view+json": {
       "model_id": "ca4b6d4a2628407ea8628c7d0c8f5982",
       "version_major": 2,
       "version_minor": 0
      },
      "text/plain": [
       "BoundedFloatText(value=0.05, description='<b>Minimum detectable lift</b>', max=1.0, step=0.005, style=Descript…"
      ]
     },
     "metadata": {},
     "output_type": "display_data"
    },
    {
     "data": {
      "application/vnd.jupyter.widget-view+json": {
       "model_id": "993de556d08546839636cc4a0007412f",
       "version_major": 2,
       "version_minor": 0
      },
      "text/plain": [
       "HBox(children=(SelectMultiple(description='<b>Power/Conclusive probability</b>', index=(15,), options=('75%', …"
      ]
     },
     "metadata": {},
     "output_type": "display_data"
    },
    {
     "data": {
      "application/vnd.jupyter.widget-view+json": {
       "model_id": "00aef38b3d8a4dc1bc01c7a305667c40",
       "version_major": 2,
       "version_minor": 0
      },
      "text/plain": [
       "Dropdown(description='<b>Proportion of Control samples</b>', index=9, options=('5%', '10%', '15%', '20%', '25%…"
      ]
     },
     "metadata": {},
     "output_type": "display_data"
    },
    {
     "data": {
      "text/markdown": [
       "<span style='color:red'>**Choose the preferred method(s):**</span>"
      ],
      "text/plain": [
       "<IPython.core.display.Markdown object>"
      ]
     },
     "metadata": {},
     "output_type": "display_data"
    },
    {
     "data": {
      "application/vnd.jupyter.widget-view+json": {
       "model_id": "73e5bde4856d4771a30f39beb9c3fe18",
       "version_major": 2,
       "version_minor": 0
      },
      "text/plain": [
       "SelectMultiple(description='<b>Method</b>', index=(0,), options=('Classical', 'Bayesian'), style=DescriptionSt…"
      ]
     },
     "metadata": {},
     "output_type": "display_data"
    }
   ],
   "source": [
    "printmd('**Enter the required values below:**')\n",
    "display(control_cr, detectable_lift, power_box, control_prop)\n",
    "\n",
    "printmd('**Choose the preferred method(s):**')\n",
    "display(method_choice)"
   ]
  },
  {
   "cell_type": "markdown",
   "id": "fd8ea42f",
   "metadata": {},
   "source": [
    "### Enter Level of Significance and Expected Loss Threshold in this cell, as required:"
   ]
  },
  {
   "cell_type": "code",
   "execution_count": 4,
   "id": "fef3039c",
   "metadata": {
    "scrolled": true
   },
   "outputs": [
    {
     "data": {
      "text/markdown": [
       "<span style='color:red'>**Enter Level of Significance for Classical calculation and Expected Loss Threshold for Bayesian calculation:**</span>"
      ],
      "text/plain": [
       "<IPython.core.display.Markdown object>"
      ]
     },
     "metadata": {},
     "output_type": "display_data"
    },
    {
     "data": {
      "application/vnd.jupyter.widget-view+json": {
       "model_id": "d09c7b0887d14e309a7bb110d69cba40",
       "version_major": 2,
       "version_minor": 0
      },
      "text/plain": [
       "FloatSlider(value=0.05, description='<b>Level of Significance</b>', max=0.1, min=0.01, step=0.01, style=Slider…"
      ]
     },
     "metadata": {},
     "output_type": "display_data"
    },
    {
     "data": {
      "application/vnd.jupyter.widget-view+json": {
       "model_id": "e0b680356e4747eaacb038eb6d36851e",
       "version_major": 2,
       "version_minor": 0
      },
      "text/plain": [
       "HBox(children=(FloatSlider(value=0.001, description='<b>Expected Loss Threshold</b>', max=0.002, min=0.0002, r…"
      ]
     },
     "metadata": {},
     "output_type": "display_data"
    }
   ],
   "source": [
    "threshold_display(method_choice.value, control_cr.value)"
   ]
  },
  {
   "cell_type": "markdown",
   "id": "f23c0e0f",
   "metadata": {},
   "source": [
    "### This cell displays the result after computation is complete:"
   ]
  },
  {
   "cell_type": "code",
   "execution_count": 5,
   "id": "058b7d44",
   "metadata": {
    "scrolled": false
   },
   "outputs": [
    {
     "data": {
      "text/markdown": [
       "<span style='color:red'>**Required sample size by Classical method:**\n",
       "</span>"
      ],
      "text/plain": [
       "<IPython.core.display.Markdown object>"
      ]
     },
     "metadata": {},
     "output_type": "display_data"
    },
    {
     "name": "stdout",
     "output_type": "stream",
     "text": [
      "Power 90% : Required sample size for control 56991.0\n",
      "Power 95% : Required sample size for control 70543.0\n"
     ]
    },
    {
     "data": {
      "application/vnd.jupyter.widget-view+json": {
       "model_id": "9fc7585f86f944bcbb933d784770540e",
       "version_major": 2,
       "version_minor": 0
      },
      "text/plain": [
       "IntProgress(value=0, bar_style='info', description='Bayesian running:', max=10, style=ProgressStyle(bar_color=…"
      ]
     },
     "metadata": {},
     "output_type": "display_data"
    },
    {
     "data": {
      "text/markdown": [
       "<span style='color:red'>**Required sample size by Bayesian method:**\n",
       "</span>"
      ],
      "text/plain": [
       "<IPython.core.display.Markdown object>"
      ]
     },
     "metadata": {},
     "output_type": "display_data"
    },
    {
     "name": "stdout",
     "output_type": "stream",
     "text": [
      "Power 90% : Required sample size for control 12080.0\n",
      "Power 95% : Required sample size for control 15841.0\n"
     ]
    }
   ],
   "source": [
    "samplesize_calculate(Bayesian_loading, method_choice.value, control_cr.value, detectable_lift.value, power.value, int(control_prop.value[:-1])/100, level_of_sig.value, epsilon.value)"
   ]
  },
  {
   "cell_type": "code",
   "execution_count": null,
   "id": "ec875e7b",
   "metadata": {},
   "outputs": [],
   "source": []
  },
  {
   "cell_type": "code",
   "execution_count": null,
   "id": "3e38ce0e",
   "metadata": {},
   "outputs": [],
   "source": []
  },
  {
   "cell_type": "code",
   "execution_count": null,
   "id": "5c23a731",
   "metadata": {},
   "outputs": [],
   "source": []
  },
  {
   "cell_type": "code",
   "execution_count": null,
   "id": "c49ee2ac",
   "metadata": {},
   "outputs": [],
   "source": []
  },
  {
   "cell_type": "code",
   "execution_count": null,
   "id": "ecc28398",
   "metadata": {},
   "outputs": [],
   "source": []
  }
 ],
 "metadata": {
  "kernelspec": {
   "display_name": "Python 3",
   "language": "python",
   "name": "python3"
  },
  "language_info": {
   "codemirror_mode": {
    "name": "ipython",
    "version": 3
   },
   "file_extension": ".py",
   "mimetype": "text/x-python",
   "name": "python",
   "nbconvert_exporter": "python",
   "pygments_lexer": "ipython3",
   "version": "3.8.8"
  }
 },
 "nbformat": 4,
 "nbformat_minor": 5
}
