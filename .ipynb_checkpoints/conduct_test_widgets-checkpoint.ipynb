{
 "cells": [
  {
   "cell_type": "code",
   "execution_count": null,
   "id": "c86bcde0",
   "metadata": {},
   "outputs": [],
   "source": []
  },
  {
   "cell_type": "code",
   "execution_count": 103,
   "id": "691b02b3",
   "metadata": {},
   "outputs": [
    {
     "data": {
      "text/markdown": [
       "<span style='color:red'>**Upload the .csv data file with control/treatment in first column and binary observations in second column:**</span>"
      ],
      "text/plain": [
       "<IPython.core.display.Markdown object>"
      ]
     },
     "metadata": {},
     "output_type": "display_data"
    },
    {
     "data": {
      "application/vnd.jupyter.widget-view+json": {
       "model_id": "f5fab56f0e414d3ea3f4efb6022a5b48",
       "version_major": 2,
       "version_minor": 0
      },
      "text/plain": [
       "FileUpload(value={}, accept='.csv', description='Upload')"
      ]
     },
     "metadata": {},
     "output_type": "display_data"
    }
   ],
   "source": [
    "import ipywidgets as widgets\n",
    "from IPython.display import Markdown, display\n",
    "import pandas as pd\n",
    "import numpy as np\n",
    "import seaborn as sns\n",
    "from scipy.stats import beta\n",
    "from scipy.stats import norm, t\n",
    "import matplotlib.pyplot as plt\n",
    "import json\n",
    "import decimal\n",
    "decimal.getcontext().prec = 4\n",
    "import multiprocessing\n",
    "from joblib import Parallel, delayed\n",
    "\n",
    "def printmd(string, color='red'):\n",
    "    colorstr = \"<span style='color:{}'>{}</span>\".format(color, string)\n",
    "    display(Markdown(colorstr))\n",
    "\n",
    "\n",
    "def upload_file():\n",
    "    printmd('**Upload the .csv data file with control/treatment in first column and binary observations in second column:**')\n",
    "    uploader = widgets.FileUpload(accept = '.csv', multiple = False)\n",
    "    display(uploader)\n",
    "    return uploader   \n",
    "    \n",
    "    \n",
    "def read_file(uploader):\n",
    "    input_file = list(uploader.value.values())[0]\n",
    "    content = input_file['content']\n",
    "    content = io.StringIO(content.decode('utf-8'))\n",
    "    df = pd.read_csv(content)\n",
    "    return df\n",
    "\n",
    "def do_classical_test(df, level_of_sig):\n",
    "    str1 = df.columns[0]  ## column name of variations\n",
    "    str2 = df.columns[1]  ## column name of observations\n",
    "    \n",
    "    variation1_name = df[str1].unique()[0] ## name of variation 1\n",
    "    variation2_name = df[str1].unique()[1] ## name of variation 2\n",
    "    \n",
    "    dataset1 = df[df[str1] == variation1_name]\n",
    "    dataset2 = df[df[str1] == variation2_name]\n",
    "    \n",
    "    t_stat, p_val = ss.ttest_ind(dataset1[str2], dataset2[str2])\n",
    "    \n",
    "    p1 = plt.bar(0, dataset1[str2].mean(), color = 'red', edgecolor = 'black', capsize = 7, label = variation1_name)\n",
    "    p2 = plt.bar(1, dataset2[str2].mean(), color = 'green', edgecolor = 'black', capsize = 7, label = variation2_name)\n",
    "    \n",
    "    plt.legend(handles=[p1, p2], bbox_to_anchor=(1.05, 1), loc='upper left')\n",
    "    plt.show()\n",
    "    \n",
    "    if t_stat<=0 and p_val <= level_of_sig:\n",
    "        printmd(f'**The variation \\'{variation2_name}\\' has significantly higher conversion rate compared to the the \\'{variation1_name}\\'. The p value of the test is {p_val:.5f}.**', color = 'green')\n",
    "        \n",
    "    if t_stat>=0 and p_val <= level_of_sig:\n",
    "        printmd(f'**The variation \\'{variation1_name}\\' has significantly higher conversion rate compared to the \\'{variation2_name}\\'. The p value of the test is {p_val:.5f}.**', color = 'red')\n",
    "    #return t_stat, p_val\n",
    "    \n",
    "\n",
    "up = upload_file()\n"
   ]
  },
  {
   "cell_type": "code",
   "execution_count": 105,
   "id": "cd01402d",
   "metadata": {},
   "outputs": [
    {
     "data": {
      "image/png": "[encoded data removed]",
      "text/plain": [
       "<Figure size 432x288 with 1 Axes>"
      ]
     },
     "metadata": {
      "needs_background": "light"
     },
     "output_type": "display_data"
    },
    {
     "data": {
      "text/markdown": [
       "<span style='color:red'>**The variation 'treatment' has significantly higher conversion rate compared to the 'control'. The p value of the test is 0.00000.**</span>"
      ],
      "text/plain": [
       "<IPython.core.display.Markdown object>"
      ]
     },
     "metadata": {},
     "output_type": "display_data"
    }
   ],
   "source": [
    "df = read_file(up)\n",
    "do_classical_test(df, 0.05)"
   ]
  },
  {
   "cell_type": "code",
   "execution_count": null,
   "id": "67c8b635",
   "metadata": {},
   "outputs": [],
   "source": []
  },
  {
   "cell_type": "code",
   "execution_count": null,
   "id": "339c85f3",
   "metadata": {},
   "outputs": [],
   "source": []
  },
  {
   "cell_type": "code",
   "execution_count": null,
   "id": "f627c641",
   "metadata": {},
   "outputs": [],
   "source": []
  },
  {
   "cell_type": "code",
   "execution_count": null,
   "id": "1614c416",
   "metadata": {},
   "outputs": [],
   "source": []
  },
  {
   "cell_type": "code",
   "execution_count": null,
   "id": "a853cd53",
   "metadata": {},
   "outputs": [],
   "source": []
  },
  {
   "cell_type": "code",
   "execution_count": null,
   "id": "ec61896f",
   "metadata": {},
   "outputs": [],
   "source": []
  },
  {
   "cell_type": "code",
   "execution_count": null,
   "id": "f72fa058",
   "metadata": {},
   "outputs": [],
   "source": []
  },
  {
   "cell_type": "code",
   "execution_count": null,
   "id": "8ed9bdd4",
   "metadata": {},
   "outputs": [],
   "source": []
  }
 ],
 "metadata": {
  "kernelspec": {
   "display_name": "Python 3",
   "language": "python",
   "name": "python3"
  },
  "language_info": {
   "codemirror_mode": {
    "name": "ipython",
    "version": 3
   },
   "file_extension": ".py",
   "mimetype": "text/x-python",
   "name": "python",
   "nbconvert_exporter": "python",
   "pygments_lexer": "ipython3",
   "version": "3.8.10"
  }
 },
 "nbformat": 4,
 "nbformat_minor": 5
}
