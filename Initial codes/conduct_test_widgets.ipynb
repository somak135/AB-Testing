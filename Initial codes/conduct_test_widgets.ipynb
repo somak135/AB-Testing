{
 "cells": [
  {
   "cell_type": "markdown",
   "id": "9e632c5f",
   "metadata": {},
   "source": [
    "### Initially run the first two cells"
   ]
  },
  {
   "cell_type": "code",
   "execution_count": 61,
   "id": "691b02b3",
   "metadata": {},
   "outputs": [],
   "source": [
    "import ipywidgets as widgets\n",
    "from IPython.display import Markdown, display\n",
    "import pandas as pd\n",
    "import numpy as np\n",
    "import seaborn as sns\n",
    "import scipy.stats as ss\n",
    "#from scipy.stats import norm, t\n",
    "import matplotlib.pyplot as plt\n",
    "import json\n",
    "import decimal\n",
    "decimal.getcontext().prec = 4\n",
    "import multiprocessing\n",
    "from joblib import Parallel, delayed\n",
    "import io\n",
    "from scipy.special import btdtri\n",
    "\n",
    "def printmd(string, color='red'):\n",
    "    colorstr = \"<span style='color:{}'>{}</span>\".format(color, string)\n",
    "    display(Markdown(colorstr))\n",
    "\n",
    "\n",
    "def upload_file():\n",
    "    printmd('**Upload the .csv data file with control/treatment in first column and binary observations in second column:**')\n",
    "    uploader = widgets.FileUpload(accept = '.csv', multiple = False)\n",
    "    display(uploader)\n",
    "    return uploader   \n",
    "    \n",
    "    \n",
    "def read_file(uploader):\n",
    "    input_file = list(uploader.value.values())[0]\n",
    "    content = input_file['content']\n",
    "    content = io.StringIO(content.decode('utf-8'))\n",
    "    df = pd.read_csv(content)\n",
    "    return df\n",
    "\n",
    "def do_classical_test(df, level_of_sig):\n",
    "    str1 = df.columns[0]  ## column name of variations\n",
    "    str2 = df.columns[1]  ## column name of observations\n",
    "    \n",
    "    variation1_name = df[str1].unique()[0] ## name of variation 1\n",
    "    variation2_name = df[str1].unique()[1] ## name of variation 2\n",
    "    \n",
    "    dataset1 = df[df[str1] == variation1_name]\n",
    "    dataset2 = df[df[str1] == variation2_name]\n",
    "    \n",
    "    ci_dataset1 = np.sqrt(dataset1[str2].mean()*(1 - dataset1[str2].mean())/len(dataset1[str2]))*ss.norm.ppf(1-level_of_sig/2)\n",
    "    ci_dataset2 = np.sqrt(dataset1[str2].mean()*(1 - dataset1[str2].mean())/len(dataset2[str2]))*ss.norm.ppf(1-level_of_sig/2 )\n",
    "    \n",
    "    p1 = plt.bar(0, dataset1[str2].mean(), color = 'red', edgecolor = 'black', yerr = ci_dataset1, capsize = 15, label = variation1_name, width = 0.2)\n",
    "    p2 = plt.bar(0.4, dataset2[str2].mean(), color = 'green', edgecolor = 'black', yerr = ci_dataset2, capsize = 15, label = variation2_name, width = 0.2)\n",
    "    \n",
    "    plt.legend(handles=[p1, p2], bbox_to_anchor=(1.05, 1), loc='upper left')\n",
    "    plt.xticks([0, 0.4], [variation1_name, variation2_name])\n",
    "    plt.show()\n",
    "    \n",
    "    t_stat, p_val = ss.ttest_ind(dataset1[str2], dataset2[str2])\n",
    "    \n",
    "    if t_stat<=0 and p_val <= level_of_sig:\n",
    "        printmd(f'**The variation \\'{variation2_name}\\' has significantly higher conversion rate compared to the the \\'{variation1_name}\\'. The p value of the test is {p_val:.5f}.**', color = 'green')\n",
    "        \n",
    "    if t_stat>=0 and p_val <= level_of_sig:\n",
    "        printmd(f'**The variation \\'{variation1_name}\\' has significantly higher conversion rate compared to the \\'{variation2_name}\\'. The p value of the test is {p_val:.5f}.**', color = 'red')\n",
    "        \n",
    "    if p_val > level_of_sig:\n",
    "        printmd(f'**The test is inconclusive. P-value is {p_val: .5f}.**')\n",
    "    #return t_stat, p_val\n",
    "    \n",
    "\n",
    "def calculate_expected_loss(control_simulation, treatment_simulation, treatment_won, min_difference_delta=0):\n",
    "    control_simulation = np.array(control_simulation)\n",
    "    treatment_simulation = np.array(treatment_simulation)\n",
    "    \n",
    "    loss_control = (treatment_simulation - min_difference_delta) - control_simulation\n",
    "    loss_treatment = (control_simulation - min_difference_delta) - treatment_simulation\n",
    "    \n",
    "    all_loss_control = treatment_won * loss_control\n",
    "    all_loss_treatment = (1 - treatment_won) * loss_treatment\n",
    "    \n",
    "    return np.mean(all_loss_control), np.mean(all_loss_treatment)\n",
    "\n",
    "\n",
    "    \n",
    "def do_bayesian_test(df, eps):\n",
    "    str1 = df.columns[0]  ## column name of variations\n",
    "    str2 = df.columns[1]  ## column name of observations\n",
    "    \n",
    "    variation1_name = df[str1].unique()[0] ## name of variation 1\n",
    "    variation2_name = df[str1].unique()[1] ## name of variation 2\n",
    "    \n",
    "    if len(df[df[str1] == variation1_name]) < len(df[df[str1] == variation2_name]): ## variation1 is the one having larger sample size\n",
    "        variation1_name = df[str1].unique()[1]\n",
    "        variation2_name = df[str1].unique()[0]\n",
    "        \n",
    "    \n",
    "    dataset1 = df[df[str1] == variation1_name]\n",
    "    dataset2 = df[df[str1] == variation2_name]\n",
    "    \n",
    "    variation1_data = np.array(dataset1[str2])\n",
    "    variation2_data = np.array(dataset2[str2])\n",
    "    variation1_prop = len(variation1_data)/(len(variation1_data) + len(variation2_data))\n",
    "    variation1_sample_size = len(variation1_data)\n",
    "    variation2_sample_size = len(variation2_data)\n",
    "    \n",
    "    variation1_consumed_sample_size = np.ceil(variation1_sample_size/2 - 20).astype(int)\n",
    "    variation2_consumed_sample_size = np.ceil(variation2_sample_size/2 - np.ceil(20 * (1 - variation1_prop)/variation1_prop).astype(int)).astype(int)\n",
    "    variation1_consumed_sample_size_vec = []\n",
    "    \n",
    "    variation1_conversions = sum(variation1_data[0 : variation1_consumed_sample_size])\n",
    "    variation2_conversions = sum(variation2_data[0 : variation2_consumed_sample_size])\n",
    "    loss_variation1_vec = []\n",
    "    loss_variation2_vec = []\n",
    "    \n",
    "    while variation1_consumed_sample_size <= variation1_sample_size and variation2_consumed_sample_size <= variation2_sample_size:\n",
    "        variation1_consumed_sample_size += 20\n",
    "        variation2_consumed_sample_size += np.ceil(20 * (1 - variation1_prop)/variation1_prop).astype(int)\n",
    "        variation1_consumed_sample_size_vec.append(variation1_consumed_sample_size)\n",
    "        variation1_conversions += sum(variation1_data[(variation1_consumed_sample_size - 20) : (variation1_consumed_sample_size)])\n",
    "        variation2_conversions += sum(variation2_data[(variation2_consumed_sample_size - np.ceil(20 * (1 - variation1_prop)/variation1_prop).astype(int)) : (variation2_consumed_sample_size)])\n",
    "            \n",
    "        variation1_posterior_simulation = np.random.beta(1 + variation1_conversions, 1 + variation1_consumed_sample_size - variation1_conversions, size=5000)\n",
    "        variation2_posterior_simulation = np.random.beta(1 + variation2_conversions, 1 + variation2_consumed_sample_size - variation2_conversions, size=5000)\n",
    "        variation2_won = (variation2_posterior_simulation >= variation1_posterior_simulation).astype(int)\n",
    "            \n",
    "        expected_loss_variation1, expected_loss_variation2 = calculate_expected_loss(variation1_posterior_simulation, variation2_posterior_simulation, variation2_won)\n",
    "        loss_variation1_vec.append(expected_loss_variation1)\n",
    "        loss_variation2_vec.append(expected_loss_variation2)\n",
    "        \n",
    "    \n",
    "    plt.plot(np.array([variation1_sample_size/2, variation1_consumed_sample_size]), np.array([eps, eps]), color = 'b', linewidth = 1)    \n",
    "    plt.plot(variation1_consumed_sample_size_vec, loss_variation1_vec, color = 'r', label = f'{variation1_name} loss',  linewidth = 0.6)\n",
    "    plt.plot(variation1_consumed_sample_size_vec, loss_variation2_vec, color = 'g', label = f'{variation2_name} loss', linewidth = 0.6)\n",
    "    plt.legend(loc = 'upper right')\n",
    "    plt.xlabel(f'{variation1_name} sample size')\n",
    "    plt.ylabel('expected loss')\n",
    "    #plt.title('Expected losses vs Sample size')\n",
    "    #plt.text(11000, 0.001, 'eps = 0.0005')\n",
    "    plt.show()\n",
    "    #plt.savefig('plot11', dpi = 800)\n",
    "    \n",
    "    \n",
    "def do_bayesian_test2(df, eps):\n",
    "    str1 = df.columns[0]\n",
    "    str2 = df.columns[1]\n",
    "    \n",
    "    variation1_name = df[str1].unique()[0]\n",
    "    variation2_name = df[str1].unique()[1]\n",
    "    \n",
    "    if len(df[df[str1] == variation1_name]) < len(df[df[str1] == variation2_name]):\n",
    "        variation1_name = df[str1].unique()[1]\n",
    "        variation2_name = df[str1].unique()[0]\n",
    "        \n",
    "    dataset1 = df[df[str1] == variation1_name]\n",
    "    dataset2 = df[df[str1] == variation2_name]\n",
    "    \n",
    "    variation1_data = np.array(dataset1[str2])\n",
    "    variation2_data = np.array(dataset2[str2])\n",
    "    variation1_prop = len(variation1_data)/(len(variation1_data) + len(variation2_data))\n",
    "    \n",
    "    variation1_sample_size = len(variation1_data)\n",
    "    variation2_sample_size = len(variation2_data)\n",
    "    number_of_steps = int(np.floor(len(variation1_data)/(2*20)))\n",
    "    variation1_steps = np.linspace(len(variation1_data)/2, len(variation1_data), number_of_steps)\n",
    "    variation2_steps = np.linspace(len(variation2_data)/2, len(variation2_data), number_of_steps)\n",
    "    \n",
    "    flag_variation1 = 0\n",
    "    flag_variation2 = 0\n",
    "    step = 0\n",
    "    \n",
    "    variation1_consumed_sample_size = round(variation1_steps[step])\n",
    "    variation2_consumed_sample_size = round(variation2_steps[step])\n",
    "    variation1_consumed_sample_size_vec = []\n",
    "    variation1_conversions = sum(variation1_data[0:variation1_consumed_sample_size])\n",
    "    variation2_conversions = sum(variation2_data[0:variation2_consumed_sample_size])\n",
    "    loss_variation1_vec = []\n",
    "    loss_variation2_vec = []\n",
    "    \n",
    "    while step < number_of_steps-1:\n",
    "        step += 1\n",
    "        new_step_variation1 = round(variation1_steps[step])\n",
    "        new_step_variation2 = round(variation2_steps[step])\n",
    "        \n",
    "        variation1_conversions += sum(variation1_data[variation1_consumed_sample_size : new_step_variation1])\n",
    "        variation2_conversions += sum(variation2_data[variation2_consumed_sample_size : new_step_variation2])\n",
    "        \n",
    "        variation1_consumed_sample_size = new_step_variation1\n",
    "        variation2_consumed_sample_size = new_step_variation2\n",
    "        variation1_consumed_sample_size_vec.append(variation1_consumed_sample_size)\n",
    "        \n",
    "        variation1_posterior_simulation = np.random.beta(1 + variation1_conversions, 1 + variation1_consumed_sample_size - variation1_conversions, size=5000)\n",
    "        variation2_posterior_simulation = np.random.beta(1 + variation2_conversions, 1 + variation2_consumed_sample_size - variation2_conversions, size=5000)\n",
    "        variation2_won = (variation2_posterior_simulation >= variation1_posterior_simulation).astype(int)\n",
    "            \n",
    "        expected_loss_variation1, expected_loss_variation2 = calculate_expected_loss(variation1_posterior_simulation, variation2_posterior_simulation, variation2_won)\n",
    "        loss_variation1_vec.append(expected_loss_variation1)\n",
    "        loss_variation2_vec.append(expected_loss_variation2)\n",
    "        \n",
    "        if expected_loss_variation1 <= eps:\n",
    "            flag_variation1 = 1\n",
    "            flag_variation2 = 0\n",
    "        if expected_loss_variation2 <= eps:\n",
    "            flag_variation2 = 1\n",
    "            flag_variation1 = 0\n",
    "    \n",
    "    #_, (ax1, ax2) = plt.subplots(1, 2)\n",
    "    plt.plot(np.array([variation1_steps[0], variation1_consumed_sample_size]), np.array([eps, eps]), color = 'b', linewidth = 1)    \n",
    "    plt.plot(variation1_consumed_sample_size_vec, loss_variation1_vec, color = 'r', label = f'{variation1_name} loss',  linewidth = 0.6)\n",
    "    plt.plot(variation1_consumed_sample_size_vec, loss_variation2_vec, color = 'g', label = f'{variation2_name} loss', linewidth = 0.6)\n",
    "    plt.legend(loc = 'upper right')\n",
    "    plt.xlabel(f'{variation1_name} sample size'); plt.ylabel('Expected losses')\n",
    "    plt.title('Sample size vs Expected losses')\n",
    "    #ax1.xlabel(f'{variation1_name} sample size')\n",
    "    #ax1.ylabel('expected loss')\n",
    "    #plt.title('Expected losses vs Sample size')\n",
    "    #plt.text(11000, 0.001, 'eps = 0.0005')\n",
    "    plt.show()\n",
    "    \n",
    "    variation1_cr_mean = variation1_conversions/variation1_consumed_sample_size\n",
    "    variation1_cr_lci = btdtri(variation1_conversions, variation1_consumed_sample_size - variation1_conversions, 0.025)\n",
    "    variation1_cr_uci = btdtri(variation1_conversions, variation1_consumed_sample_size - variation1_conversions, 0.975)\n",
    "    \n",
    "    variation2_cr_mean = variation2_conversions/variation2_consumed_sample_size\n",
    "    variation2_cr_lci = btdtri(variation2_conversions, variation2_consumed_sample_size - variation2_conversions, 0.025)\n",
    "    variation2_cr_uci = btdtri(variation2_conversions, variation2_consumed_sample_size - variation2_conversions, 0.975)\n",
    "    \n",
    "    means = [variation1_cr_mean, variation2_cr_mean]\n",
    "    err_low = [variation1_cr_mean - variation1_cr_lci, variation2_cr_mean - variation2_cr_lci]\n",
    "    err_up = [variation1_cr_uci - variation1_cr_mean, variation2_cr_uci - variation2_cr_mean]\n",
    "    p1 = plt.bar([0,0.4], means, color = ['red', 'green'], edgecolor = 'black', yerr = [err_low, err_up], capsize = 15, label = [variation1_name, variation2_name], width = 0.2)\n",
    "    ##p2 = plt.bar(0.4, variation2_cr_mean, color = 'green', edgecolor = 'black', yerr = [variation2_cr_mean - variation2_cr_lci, variation2_cr_uci - variation2_cr_mean], capsize = 15, label = variation2_name, width = 0.2)\n",
    "    \n",
    "    ##plt.legend(handles=[p1], bbox_to_anchor=(1.05, 1), loc='upper left')\n",
    "    plt.xticks([0, 0.4], [variation1_name, variation2_name])\n",
    "    plt.ylabel(\"Conversion rates\")\n",
    "    plt.title('Conversion rates with 95% credible intervals')\n",
    "    plt.show()\n",
    "    ##plt.savefig('plot11', dpi = 800)\n",
    "    \n",
    "    \n",
    "    fig3,ax3 = plt.subplots(1)\n",
    "    leftlim = min(variation1_cr_mean, variation2_cr_mean) - 2*abs(variation1_cr_mean - variation2_cr_mean)\n",
    "    rightlim = max(variation1_cr_mean, variation2_cr_mean) + 2*abs(variation1_cr_mean - variation2_cr_mean)\n",
    "    x_axis = np.arange(leftlim, rightlim, 0.0001)\n",
    "    plt.plot(x_axis, ss.beta.pdf(x_axis, variation1_conversions, variation1_consumed_sample_size - variation1_conversions), color = 'r', label = 'control')\n",
    "    plt.plot(x_axis, ss.beta.pdf(x_axis, variation2_conversions, variation2_consumed_sample_size - variation2_conversions), color = 'g', label = 'treatment')\n",
    "    #plt.xticks([variation1_cr_mean, variation2_cr_mean], [variation1_name, variation2_name])\n",
    "    #ax3.set_yticklabels([])\n",
    "    ax3.set_xlabel(\"Conversion rates\")\n",
    "    ax3.set_ylabel(\"Density\")\n",
    "    plt.legend(loc = 'upper right')\n",
    "    plt.axvspan(variation1_cr_lci, variation1_cr_uci, alpha=0.3, color='red')\n",
    "    plt.axvspan(variation2_cr_lci, variation2_cr_uci, alpha=0.3, color='green')\n",
    "    plt.title('Posterior distributions of conversion rates with shaded 95% credible regions')\n",
    "    plt.show()\n",
    "    \n",
    "    if flag_variation1 == 1:\n",
    "        printmd(f'**The variation {variation1_name} has significantly higher conversion rate compared to the variation {variation2_name}. Expected loss of {variation1_name} is below {eps}.**', color = 'red')\n",
    "        \n",
    "    if flag_variation2 == 1:\n",
    "        printmd(f'**The variation {variation2_name} has significantly higher conversion rate compared to the variation {variation1_name}. Expected loss of {variation2_name} is below {eps}.**', color = 'green')\n",
    "    \n",
    "    if flag_variation1 == 0 and flag_variation2 == 0:\n",
    "        printmd(\"**The test is inconclusive.**\", color = 'black')"
   ]
  },
  {
   "cell_type": "code",
   "execution_count": 46,
   "id": "c6aeb9d2",
   "metadata": {},
   "outputs": [],
   "source": [
    "style = {'description_width': 'initial'}\n",
    "def do_test(df, level_of_sig, epsilon, string):\n",
    "    if string == 'Classical':\n",
    "        do_classical_test(df, level_of_sig)\n",
    "        \n",
    "    if string == 'Bayesian':\n",
    "        do_bayesian_test2(df, epsilon)\n",
    "    \n",
    "method_choice = widgets.Select(\n",
    "                options = ['Classical', 'Bayesian'],\n",
    "                value = 'Classical',\n",
    "                description = f'<b>Method</b>',\n",
    "                style = style\n",
    ")\n",
    "\n",
    "level_of_sig = widgets.BoundedFloatText(\n",
    "                value = 0.05,\n",
    "                min = 0.01,\n",
    "                max = 0.1,\n",
    "                #step = 0.01,\n",
    "                description = f'<b>Level of Significance</b>',\n",
    "                readout_format = '.4f',\n",
    "                style = style\n",
    ")\n",
    "\n",
    "epsilon = widgets.BoundedFloatText(\n",
    "        value = 0.001,\n",
    "        min = 0.0000001,\n",
    "        max = 0.1,\n",
    "        #step = eps_min,\n",
    "        description = f'<b>Expected Loss Threshold</b>',\n",
    "        #readout = False,\n",
    "        style = style\n",
    ")\n",
    "#eps_label = widgets.Label()\n",
    "#eps_box = widgets.HBox([epsilon, eps_label])\n",
    "#mylink = widgets.jslink((epsilon, 'value'), (eps_label, 'value'))\n",
    "\n",
    "def threshold_display(arr):\n",
    "    if arr == 'Classical':\n",
    "        printmd('**Enter Level of Significance for Classical calculation:**')\n",
    "        display(level_of_sig)\n",
    "            \n",
    "    if arr == 'Bayesian':\n",
    "        printmd('**Enter expected loss threshold:**')\n",
    "        display(epsilon)"
   ]
  },
  {
   "cell_type": "code",
   "execution_count": null,
   "id": "b8746e48",
   "metadata": {},
   "outputs": [],
   "source": []
  },
  {
   "cell_type": "code",
   "execution_count": null,
   "id": "5a9abf00",
   "metadata": {},
   "outputs": [],
   "source": []
  },
  {
   "cell_type": "code",
   "execution_count": null,
   "id": "038d19c3",
   "metadata": {},
   "outputs": [],
   "source": []
  },
  {
   "cell_type": "markdown",
   "id": "218abf28",
   "metadata": {},
   "source": [
    "### Upload the .csv data file. Should have variation name in first column and binary observations in second column."
   ]
  },
  {
   "cell_type": "code",
   "execution_count": 47,
   "id": "1614c416",
   "metadata": {},
   "outputs": [
    {
     "data": {
      "text/markdown": [
       "<span style='color:red'>**Upload the .csv data file with control/treatment in first column and binary observations in second column:**</span>"
      ],
      "text/plain": [
       "<IPython.core.display.Markdown object>"
      ]
     },
     "metadata": {},
     "output_type": "display_data"
    },
    {
     "data": {
      "application/vnd.jupyter.widget-view+json": {
       "model_id": "c9d85b5dffda49989eb9301bd4f3cc03",
       "version_major": 2,
       "version_minor": 0
      },
      "text/plain": [
       "FileUpload(value={}, accept='.csv', description='Upload')"
      ]
     },
     "metadata": {},
     "output_type": "display_data"
    }
   ],
   "source": [
    "up = upload_file()"
   ]
  },
  {
   "cell_type": "markdown",
   "id": "34233ec5",
   "metadata": {},
   "source": [
    "### Choose your preferred method(Classical/Bayesian) from the list."
   ]
  },
  {
   "cell_type": "code",
   "execution_count": 48,
   "id": "a853cd53",
   "metadata": {},
   "outputs": [
    {
     "data": {
      "text/markdown": [
       "<span style='color:red'>**Choose preferred method for the test.**</span>"
      ],
      "text/plain": [
       "<IPython.core.display.Markdown object>"
      ]
     },
     "metadata": {},
     "output_type": "display_data"
    },
    {
     "data": {
      "application/vnd.jupyter.widget-view+json": {
       "model_id": "533f38ca4c7c4e3298132f5774c24a35",
       "version_major": 2,
       "version_minor": 0
      },
      "text/plain": [
       "Select(description='<b>Method</b>', options=('Classical', 'Bayesian'), style=DescriptionStyle(description_widt…"
      ]
     },
     "metadata": {},
     "output_type": "display_data"
    }
   ],
   "source": [
    "df = read_file(up)\n",
    "printmd('**Choose preferred method for the test.**'); display(method_choice)"
   ]
  },
  {
   "cell_type": "code",
   "execution_count": 49,
   "id": "ba5a1dd0",
   "metadata": {},
   "outputs": [
    {
     "data": {
      "text/markdown": [
       "<span style='color:red'>**Enter expected loss threshold:**</span>"
      ],
      "text/plain": [
       "<IPython.core.display.Markdown object>"
      ]
     },
     "metadata": {},
     "output_type": "display_data"
    },
    {
     "data": {
      "application/vnd.jupyter.widget-view+json": {
       "model_id": "8a7f42dbe7af4fdc9942359550b27ed0",
       "version_major": 2,
       "version_minor": 0
      },
      "text/plain": [
       "BoundedFloatText(value=0.001, description='<b>Expected Loss Threshold</b>', max=0.1, min=1e-07, style=Descript…"
      ]
     },
     "metadata": {},
     "output_type": "display_data"
    }
   ],
   "source": [
    "threshold_display(method_choice.value)"
   ]
  },
  {
   "cell_type": "markdown",
   "id": "3ba01c51",
   "metadata": {},
   "source": [
    "### The following cell executes the test and show the result if it is conclusive."
   ]
  },
  {
   "cell_type": "code",
   "execution_count": 62,
   "id": "a5d581c5",
   "metadata": {
    "collapsed": true
   },
   "outputs": [
    {
     "data": {
      "image/png": "[encoded data removed]",
      "text/plain": [
       "<Figure size 432x288 with 1 Axes>"
      ]
     },
     "metadata": {
      "needs_background": "light"
     },
     "output_type": "display_data"
    },
    {
     "data": {
      "image/png": "[encoded data removed]",
      "text/plain": [
       "<Figure size 432x288 with 1 Axes>"
      ]
     },
     "metadata": {
      "needs_background": "light"
     },
     "output_type": "display_data"
    },
    {
     "data": {
      "image/png": "[encoded data removed]",
      "text/plain": [
       "<Figure size 432x288 with 1 Axes>"
      ]
     },
     "metadata": {
      "needs_background": "light"
     },
     "output_type": "display_data"
    },
    {
     "data": {
      "text/markdown": [
       "<span style='color:red'>**The variation control has significantly higher conversion rate compared to the variation treatment. Expected loss of control is below 0.001.**</span>"
      ],
      "text/plain": [
       "<IPython.core.display.Markdown object>"
      ]
     },
     "metadata": {},
     "output_type": "display_data"
    }
   ],
   "source": [
    "do_test(df, level_of_sig.value, epsilon.value, method_choice.value)"
   ]
  },
  {
   "cell_type": "code",
   "execution_count": null,
   "id": "84d1a035",
   "metadata": {},
   "outputs": [],
   "source": []
  },
  {
   "cell_type": "code",
   "execution_count": null,
   "id": "b4f847e4",
   "metadata": {},
   "outputs": [],
   "source": []
  },
  {
   "cell_type": "code",
   "execution_count": null,
   "id": "7fb766db",
   "metadata": {},
   "outputs": [],
   "source": []
  },
  {
   "cell_type": "code",
   "execution_count": null,
   "id": "cec21489",
   "metadata": {},
   "outputs": [],
   "source": []
  },
  {
   "cell_type": "code",
   "execution_count": null,
   "id": "3ecf736c",
   "metadata": {},
   "outputs": [],
   "source": []
  },
  {
   "cell_type": "code",
   "execution_count": null,
   "id": "a1080448",
   "metadata": {},
   "outputs": [],
   "source": []
  },
  {
   "cell_type": "code",
   "execution_count": null,
   "id": "c96d5501",
   "metadata": {},
   "outputs": [],
   "source": [
    "## plot posterior distributions & mark quantiles\n",
    "## header and xaxis"
   ]
  }
 ],
 "metadata": {
  "kernelspec": {
   "display_name": "Python 3",
   "language": "python",
   "name": "python3"
  },
  "language_info": {
   "codemirror_mode": {
    "name": "ipython",
    "version": 3
   },
   "file_extension": ".py",
   "mimetype": "text/x-python",
   "name": "python",
   "nbconvert_exporter": "python",
   "pygments_lexer": "ipython3",
   "version": "3.8.10"
  }
 },
 "nbformat": 4,
 "nbformat_minor": 5
}
